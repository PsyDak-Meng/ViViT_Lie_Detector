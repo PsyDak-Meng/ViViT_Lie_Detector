{
  "nbformat": 4,
  "nbformat_minor": 0,
  "metadata": {
    "colab": {
      "provenance": []
    },
    "kernelspec": {
      "name": "python3",
      "display_name": "Python 3"
    },
    "language_info": {
      "name": "python"
    }
  },
  "cells": [
    {
      "cell_type": "code",
      "source": [
        "%%capture\n",
        "pip install vaderSentiment"
      ],
      "metadata": {
        "id": "c5jeg0D7uQOi"
      },
      "execution_count": 8,
      "outputs": []
    },
    {
      "cell_type": "code",
      "execution_count": null,
      "metadata": {
        "id": "bTBmr9KUoI7B"
      },
      "outputs": [],
      "source": [
        "%%capture\n",
        "!unzip RealLifeDeceptionDetection.2016.zip"
      ]
    },
    {
      "cell_type": "code",
      "source": [
        "import os\n",
        "import numpy as np\n",
        "from vaderSentiment.vaderSentiment import SentimentIntensityAnalyzer\n",
        "from sklearn import linear_model\n",
        "from sklearn.model_selection import train_test_split\n",
        "from sklearn.metrics import (\n",
        "    accuracy_score,\n",
        "    precision_score,\n",
        "    recall_score,\n",
        "    f1_score\n",
        ")"
      ],
      "metadata": {
        "id": "eubE9A-8ugBB"
      },
      "execution_count": 41,
      "outputs": []
    },
    {
      "cell_type": "code",
      "source": [
        "deceptive_files = os.listdir(\"Real-life_Deception_Detection_2016/Transcription/Deceptive\")\n",
        "truthful_files = os.listdir(\"Real-life_Deception_Detection_2016/Transcription/Truthful\")\n",
        "print(truthful_files)"
      ],
      "metadata": {
        "colab": {
          "base_uri": "https://localhost:8080/"
        },
        "id": "9e2IBuzKp9c7",
        "outputId": "e3ef2591-56ea-43ac-d885-3d37596441e1"
      },
      "execution_count": 26,
      "outputs": [
        {
          "output_type": "stream",
          "name": "stdout",
          "text": [
            "['trial_truth_028.txt', 'trial_truth_042.txt', 'trial_truth_027.txt', 'trial_truth_021.txt', 'trial_truth_053.txt', 'trial_truth_035.txt', 'trial_truth_047.txt', 'trial_truth_024.txt', 'trial_truth_033.txt', 'trial_truth_018.txt', 'trial_truth_055.txt', 'trial_truth_030.txt', 'trial_truth_041.txt', 'trial_truth_050.txt', 'trial_truth_017.txt', 'trial_truth_025.txt', 'trial_truth_001.txt', 'trial_truth_043.txt', 'trial_truth_016.txt', 'trial_truth_038.txt', 'trial_truth_056.txt', 'trial_truth_015.txt', 'trial_truth_029.txt', 'trial_truth_023.txt', 'trial_truth_011.txt', 'trial_truth_045.txt', 'trial_truth_058.txt', 'trial_truth_014.txt', 'trial_truth_003.txt', 'trial_truth_010.txt', 'trial_truth_057.txt', 'trial_truth_051.txt', 'trial_truth_020.txt', 'trial_truth_040.txt', 'trial_truth_022.txt', 'trial_truth_059.txt', 'trial_truth_049.txt', 'trial_truth_054.txt', 'trial_truth_012.txt', 'trial_truth_002.txt', 'trial_truth_048.txt', 'trial_truth_052.txt', 'trial_truth_031.txt', 'trial_truth_019.txt', 'trial_truth_026.txt', 'trial_truth_036.txt', 'trial_truth_007.txt', 'trial_truth_039.txt', 'trial_truth_034.txt', 'trial_truth_004.txt', 'trial_truth_044.txt', 'trial_truth_046.txt', 'trial_truth_032.txt', 'trial_truth_013.txt', 'trial_truth_008.txt', 'trial_truth_009.txt', 'trial_truth_037.txt', 'trial_truth_006.txt', 'trial_truth_060.txt', 'trial_truth_005.txt']\n"
          ]
        }
      ]
    },
    {
      "cell_type": "code",
      "source": [
        "deceptive_texts = []\n",
        "for f in deceptive_files:\n",
        "    with open(\"Real-life_Deception_Detection_2016/Transcription/Deceptive/\" + f, 'rt') as fd:\n",
        "       text = fd.readline()\n",
        "       deceptive_texts.append(text)\n",
        "truthful_texts = []\n",
        "for f in truthful_files:\n",
        "    with open(\"Real-life_Deception_Detection_2016/Transcription/Truthful/\" + f, 'rt') as fd:\n",
        "       text = fd.readline()\n",
        "       truthful_texts.append(text)\n"
      ],
      "metadata": {
        "id": "2tZBFE7ZrWAx"
      },
      "execution_count": 22,
      "outputs": []
    },
    {
      "cell_type": "code",
      "source": [
        "sia = SentimentIntensityAnalyzer()\n",
        "data = []\n",
        "for s in deceptive_texts:\n",
        "    scores = list(sia.polarity_scores(s).values())\n",
        "    word_count = len(s.split())\n",
        "    #scores.insert(0, word_count)\n",
        "    scores.append(1)\n",
        "    data.append(scores)\n",
        "for s in truthful_texts:\n",
        "    scores = list(sia.polarity_scores(s).values())\n",
        "    word_count = len(s.split())\n",
        "    #scores.insert(0, word_count)\n",
        "    scores.append(0)\n",
        "    data.append(scores)\n",
        "data = np.array(data)\n",
        "X = data[:,:-1]\n",
        "y = data[:,-1]\n"
      ],
      "metadata": {
        "id": "YxOy46M0udOT"
      },
      "execution_count": 48,
      "outputs": []
    },
    {
      "cell_type": "code",
      "source": [
        "X_train, X_test, y_train, y_test = train_test_split(X, y, test_size=0.2,  shuffle=True)"
      ],
      "metadata": {
        "id": "ewzywJjfzPUX"
      },
      "execution_count": 49,
      "outputs": []
    },
    {
      "cell_type": "code",
      "source": [
        "lr = linear_model.LogisticRegression()\n",
        "lr.fit(X_train,y_train)\n",
        "y_predict = lr.predict(X_test)\n",
        "print(y_predict)"
      ],
      "metadata": {
        "colab": {
          "base_uri": "https://localhost:8080/"
        },
        "id": "iRPM7Jh8zGZQ",
        "outputId": "6b9c0101-0ff4-400c-ce0a-39a18fe3d5a3"
      },
      "execution_count": 50,
      "outputs": [
        {
          "output_type": "stream",
          "name": "stdout",
          "text": [
            "[0. 0. 0. 0. 0. 1. 0. 0. 0. 0. 1. 0. 1. 1. 1. 0. 1. 1. 0. 0. 0. 0. 0. 0.\n",
            " 0.]\n"
          ]
        }
      ]
    },
    {
      "cell_type": "code",
      "source": [
        "accuracy = accuracy_score(y_test, y_predict)\n",
        "precision = precision_score(y_test, y_predict)\n",
        "recall = recall_score(y_test, y_predict)\n",
        "f1 = f1_score(y_test, y_predict)\n",
        "\n",
        "print(\"Accuracy: \", accuracy)\n",
        "print(\"precision: \", precision)\n",
        "print(\"recall: \", recall)\n",
        "print(\"f1: \", f1)"
      ],
      "metadata": {
        "colab": {
          "base_uri": "https://localhost:8080/"
        },
        "id": "GZ0cUAud0apG",
        "outputId": "a052cd2b-c27a-4f36-ab12-68993dbd9783"
      },
      "execution_count": 51,
      "outputs": [
        {
          "output_type": "stream",
          "name": "stdout",
          "text": [
            "Accuracy:  0.6\n",
            "precision:  0.7142857142857143\n",
            "recall:  0.38461538461538464\n",
            "f1:  0.5\n"
          ]
        }
      ]
    }
  ]
}